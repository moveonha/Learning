{
  "nbformat": 4,
  "nbformat_minor": 0,
  "metadata": {
    "colab": {
      "provenance": [],
      "gpuType": "T4"
    },
    "kernelspec": {
      "name": "python3",
      "display_name": "Python 3"
    },
    "language_info": {
      "name": "python"
    },
    "accelerator": "GPU"
  },
  "cells": [
    {
      "cell_type": "code",
      "execution_count": 1,
      "metadata": {
        "colab": {
          "base_uri": "https://localhost:8080/"
        },
        "id": "tK0Cs9Y_fqsY",
        "outputId": "3da31694-48e5-4f99-c000-f55e8d4aff27"
      },
      "outputs": [
        {
          "output_type": "stream",
          "name": "stdout",
          "text": [
            "Reading package lists... Done\n",
            "Building dependency tree... Done\n",
            "Reading state information... Done\n",
            "Package python-dev is not available, but is referred to by another package.\n",
            "This may mean that the package is missing, has been obsoleted, or\n",
            "is only available from another source\n",
            "However the following packages replace it:\n",
            "  python2-dev python2 python-dev-is-python3\n",
            "\n",
            "E: Unable to locate package python-numpy\n",
            "E: Package 'python-dev' has no installation candidate\n",
            "E: Unable to locate package python-opengl\n"
          ]
        }
      ],
      "source": [
        "!apt-get install -y python-numpy python-dev cmake zlib1g-dev libjpeg-dev xvfb xorg-dev python-opengl libboost-all-dev libsdl2-dev swig"
      ]
    },
    {
      "cell_type": "code",
      "source": [
        "!pip install pyvirtualdisplay\n",
        "!pip install piglet\n",
        "!pip install gym==0.22\n",
        "!pip install pygame"
      ],
      "metadata": {
        "colab": {
          "base_uri": "https://localhost:8080/"
        },
        "id": "V-J2dSB-fu6T",
        "outputId": "b7743d38-8097-4de6-bd2a-ec6308798183"
      },
      "execution_count": 2,
      "outputs": [
        {
          "output_type": "stream",
          "name": "stdout",
          "text": [
            "Requirement already satisfied: pyvirtualdisplay in /usr/local/lib/python3.10/dist-packages (3.0)\n",
            "Requirement already satisfied: piglet in /usr/local/lib/python3.10/dist-packages (1.0.0)\n",
            "Requirement already satisfied: piglet-templates in /usr/local/lib/python3.10/dist-packages (from piglet) (1.3.1)\n",
            "Requirement already satisfied: pyparsing in /usr/local/lib/python3.10/dist-packages (from piglet-templates->piglet) (3.2.0)\n",
            "Requirement already satisfied: attrs in /usr/local/lib/python3.10/dist-packages (from piglet-templates->piglet) (24.2.0)\n",
            "Requirement already satisfied: astunparse in /usr/local/lib/python3.10/dist-packages (from piglet-templates->piglet) (1.6.3)\n",
            "Requirement already satisfied: markupsafe in /usr/local/lib/python3.10/dist-packages (from piglet-templates->piglet) (3.0.2)\n",
            "Requirement already satisfied: wheel<1.0,>=0.23.0 in /usr/local/lib/python3.10/dist-packages (from astunparse->piglet-templates->piglet) (0.44.0)\n",
            "Requirement already satisfied: six<2.0,>=1.6.1 in /usr/local/lib/python3.10/dist-packages (from astunparse->piglet-templates->piglet) (1.16.0)\n",
            "Requirement already satisfied: gym==0.22 in /usr/local/lib/python3.10/dist-packages (0.22.0)\n",
            "Requirement already satisfied: numpy>=1.18.0 in /usr/local/lib/python3.10/dist-packages (from gym==0.22) (1.26.4)\n",
            "Requirement already satisfied: cloudpickle>=1.2.0 in /usr/local/lib/python3.10/dist-packages (from gym==0.22) (3.1.0)\n",
            "Requirement already satisfied: gym-notices>=0.0.4 in /usr/local/lib/python3.10/dist-packages (from gym==0.22) (0.0.8)\n",
            "Requirement already satisfied: pygame in /usr/local/lib/python3.10/dist-packages (2.6.1)\n"
          ]
        }
      ]
    },
    {
      "cell_type": "code",
      "source": [
        "import random\n",
        "import math\n",
        "import numpy as np\n",
        "import gym\n",
        "from gym.wrappers import Monitor\n",
        "import matplotlib.pyplot as plt\n",
        "from glob import glob\n",
        "from base64 import b64encode\n",
        "from IPython.display import HTML\n",
        "from IPython import display as ipy_display\n",
        "from gym import logger as gym_logger\n",
        "from pyvirtualdisplay import Display"
      ],
      "metadata": {
        "colab": {
          "base_uri": "https://localhost:8080/"
        },
        "id": "uaNulTNgfxo8",
        "outputId": "8050b9d7-866b-4b8d-a387-6c0cdbfd6fc8"
      },
      "execution_count": 3,
      "outputs": [
        {
          "output_type": "stream",
          "name": "stderr",
          "text": [
            "\n"
          ]
        }
      ]
    },
    {
      "cell_type": "code",
      "source": [
        "def wrap_env(env):\n",
        "    env = Monitor(env, './video', force = True)\n",
        "    return env"
      ],
      "metadata": {
        "id": "aLdk9WdXfzwh"
      },
      "execution_count": 4,
      "outputs": []
    },
    {
      "cell_type": "code",
      "source": [
        "## Initialize the \"Cart-Pole\" environment\n",
        "env = wrap_env(gym.make('CartPole-v0'))"
      ],
      "metadata": {
        "colab": {
          "base_uri": "https://localhost:8080/"
        },
        "id": "w2FGVKXLf1uh",
        "outputId": "ed71065a-67cb-4949-bb41-0895ae3c512e"
      },
      "execution_count": 5,
      "outputs": [
        {
          "output_type": "stream",
          "name": "stderr",
          "text": [
            "/usr/local/lib/python3.10/dist-packages/gym/envs/registration.py:505: UserWarning: \u001b[33mWARN: The environment CartPole-v0 is out of date. You should consider upgrading to version `v1` with the environment ID `CartPole-v1`.\u001b[0m\n",
            "  logger.warn(\n"
          ]
        }
      ]
    },
    {
      "cell_type": "code",
      "source": [
        "## Defining the environment related constants\n",
        "\n",
        "# Number of discrete states per state dimension\n",
        "NUM_STATES = (1, 1, 6, 3)            # (x, dx, theta, dtheta)\n",
        "# Number of discrete actions\n",
        "NUM_ACTIONS = env.action_space.n                 # (left, right)\n",
        "# Bounds for each discrete state\n",
        "STATE_BOUNDS = list(zip(env.observation_space.low, env.observation_space.high))\n",
        "STATE_BOUNDS[1] = [-0.5, 0.5]\n",
        "STATE_BOUNDS[3] = [-math.radians(50), math.radians(50)]"
      ],
      "metadata": {
        "id": "dkfcThNtf3Re"
      },
      "execution_count": 6,
      "outputs": []
    },
    {
      "cell_type": "code",
      "source": [
        "## Convert continous states to discrete states\n",
        "def state_to_discrete(state):\n",
        "    state_indice = []\n",
        "    for i in range(len(state)):\n",
        "        if state[i] <= STATE_BOUNDS[i][0]:\n",
        "            state_index = 0\n",
        "        elif state[i] >= STATE_BOUNDS[i][1]:\n",
        "            state_index = NUM_STATES[i] - 1\n",
        "        else:\n",
        "            # Mapping the state bounds to the state array\n",
        "            bound_width = STATE_BOUNDS[i][1] - STATE_BOUNDS[i][0]\n",
        "            offset = (NUM_STATES[i]-1)*STATE_BOUNDS[i][0]/bound_width\n",
        "            scaling = (NUM_STATES[i]-1)/bound_width\n",
        "            state_index = int(round(scaling*state[i] - offset))\n",
        "        state_indice.append(state_index)\n",
        "    return tuple(state_indice)"
      ],
      "metadata": {
        "id": "Tt1TCf4Qf5y0"
      },
      "execution_count": 7,
      "outputs": []
    },
    {
      "cell_type": "code",
      "source": [
        "## Creating a Q-Table for each state-action pair\n",
        "q_table = np.zeros(NUM_STATES + (NUM_ACTIONS,))\n",
        "print(q_table)\n",
        "print(q_table.shape)\n",
        "\n",
        "# Create lists to contain total rewards and steps per episode\n",
        "rList = []\n",
        "\n",
        "## Learning related constants\n",
        "MIN_EXPLORE_RATE = 0.01\n",
        "MIN_LEARNING_RATE = 0.1\n",
        "\n",
        "## Defining the simulation related constants\n",
        "NUM_EPISODES = 500\n",
        "MAX_STEP = 200\n",
        "END_CONDITION = 100\n",
        "SOLVED_STEP = 199\n",
        "\n"
      ],
      "metadata": {
        "colab": {
          "base_uri": "https://localhost:8080/"
        },
        "id": "O1RCqpJ-f7-P",
        "outputId": "8a574679-0070-491b-8e5f-6a175769d68c"
      },
      "execution_count": 8,
      "outputs": [
        {
          "output_type": "stream",
          "name": "stdout",
          "text": [
            "[[[[[0. 0.]\n",
            "    [0. 0.]\n",
            "    [0. 0.]]\n",
            "\n",
            "   [[0. 0.]\n",
            "    [0. 0.]\n",
            "    [0. 0.]]\n",
            "\n",
            "   [[0. 0.]\n",
            "    [0. 0.]\n",
            "    [0. 0.]]\n",
            "\n",
            "   [[0. 0.]\n",
            "    [0. 0.]\n",
            "    [0. 0.]]\n",
            "\n",
            "   [[0. 0.]\n",
            "    [0. 0.]\n",
            "    [0. 0.]]\n",
            "\n",
            "   [[0. 0.]\n",
            "    [0. 0.]\n",
            "    [0. 0.]]]]]\n",
            "(1, 1, 6, 3, 2)\n"
          ]
        }
      ]
    },
    {
      "cell_type": "code",
      "source": [
        "def get_explore_rate(episode):\n",
        "    if episode >= 24:\n",
        "        return max(MIN_EXPLORE_RATE, min(1, 1.0 - math.log10((episode+1)/25)))\n",
        "    else:\n",
        "        return 1.0"
      ],
      "metadata": {
        "id": "I0JmbAt8f9k-"
      },
      "execution_count": 9,
      "outputs": []
    },
    {
      "cell_type": "code",
      "source": [
        "def get_learning_rate(episode):\n",
        "    if episode >= 24:\n",
        "         return max(MIN_EXPLORE_RATE, min(0.5, 1.0 - math.log10((episode+1)/25)))\n",
        "    else:\n",
        "         return 1.0"
      ],
      "metadata": {
        "id": "U9Ztv7qvf-7A"
      },
      "execution_count": 10,
      "outputs": []
    },
    {
      "cell_type": "code",
      "source": [
        "## Initializing the learning related parameters\n",
        "learning_rate = get_learning_rate(0)\n",
        "explore_rate = get_explore_rate(0)\n",
        "discount_factor = 0.99       # since the world is unchanging\n",
        "\n",
        "end_counter = 0\n",
        "\n",
        "for episode in range(NUM_EPISODES):\n",
        "    # Reset the environment\n",
        "    obv = env.reset()\n",
        "    # the initial state\n",
        "    state = state_to_discrete(obv)\n",
        "    rAll = 0\n",
        "\n",
        "    for t in range(MAX_STEP):\n",
        "        # Select an action\n",
        "        if random.random() < explore_rate:\n",
        "            action = env.action_space.sample()\n",
        "        # Select the action with the highest q\n",
        "        else:\n",
        "            action = np.argmax(q_table[state])\n",
        "\n",
        "        # Execute the action\n",
        "        new_obv, reward, done, info = env.step(action)\n",
        "\n",
        "        # Observe the result\n",
        "        new_state = state_to_discrete(new_obv)\n",
        "\n",
        "        # Update Q-Table with new knowledge using learning rate\n",
        "        q_target = reward + discount_factor * np.max(q_table[new_state])\n",
        "        q_table[state + (action,)] += learning_rate * (q_target - q_table[state + (action,)])\n",
        "\n",
        "        # Setting up for the next iteration\n",
        "        state = new_state\n",
        "        rAll += reward\n",
        "\n",
        "\n",
        "        if done:\n",
        "            print(\"Episode %d finished after %d time steps\" % (episode, t))\n",
        "            rList.append(rAll)\n",
        "            # steps >= 199\n",
        "            if (t >= SOLVED_STEP):\n",
        "                end_counter += 1\n",
        "\n",
        "            break;\n",
        "\n",
        "  # It's considered done when it's solved over 100 times\n",
        "    if end_counter > END_CONDITION:\n",
        "        break\n",
        "\n",
        "  # Update parameters\n",
        "    explore_rate = get_explore_rate(episode)\n",
        "    learning_rate = get_learning_rate(episode)\n",
        "\n",
        "env.close()"
      ],
      "metadata": {
        "colab": {
          "base_uri": "https://localhost:8080/"
        },
        "id": "LJzr113xf_jC",
        "outputId": "c66a384d-d4aa-435d-8946-82bec847e5f6"
      },
      "execution_count": 11,
      "outputs": [
        {
          "output_type": "stream",
          "name": "stdout",
          "text": [
            "Episode 0 finished after 17 time steps\n",
            "Episode 1 finished after 12 time steps\n",
            "Episode 2 finished after 17 time steps\n",
            "Episode 3 finished after 34 time steps\n",
            "Episode 4 finished after 10 time steps\n",
            "Episode 5 finished after 19 time steps\n",
            "Episode 6 finished after 12 time steps\n",
            "Episode 7 finished after 35 time steps\n",
            "Episode 8 finished after 14 time steps\n",
            "Episode 9 finished after 14 time steps\n",
            "Episode 10 finished after 15 time steps\n",
            "Episode 11 finished after 19 time steps\n",
            "Episode 12 finished after 22 time steps\n",
            "Episode 13 finished after 14 time steps\n",
            "Episode 14 finished after 27 time steps\n",
            "Episode 15 finished after 17 time steps\n",
            "Episode 16 finished after 23 time steps\n",
            "Episode 17 finished after 30 time steps\n",
            "Episode 18 finished after 15 time steps\n",
            "Episode 19 finished after 26 time steps\n",
            "Episode 20 finished after 29 time steps\n",
            "Episode 21 finished after 11 time steps\n",
            "Episode 22 finished after 13 time steps\n",
            "Episode 23 finished after 12 time steps\n",
            "Episode 24 finished after 17 time steps\n",
            "Episode 25 finished after 8 time steps\n",
            "Episode 26 finished after 12 time steps\n",
            "Episode 27 finished after 18 time steps\n",
            "Episode 28 finished after 12 time steps\n",
            "Episode 29 finished after 16 time steps\n",
            "Episode 30 finished after 14 time steps\n",
            "Episode 31 finished after 82 time steps\n",
            "Episode 32 finished after 9 time steps\n",
            "Episode 33 finished after 15 time steps\n",
            "Episode 34 finished after 11 time steps\n",
            "Episode 35 finished after 9 time steps\n",
            "Episode 36 finished after 12 time steps\n",
            "Episode 37 finished after 14 time steps\n",
            "Episode 38 finished after 11 time steps\n",
            "Episode 39 finished after 22 time steps\n",
            "Episode 40 finished after 31 time steps\n",
            "Episode 41 finished after 49 time steps\n",
            "Episode 42 finished after 17 time steps\n",
            "Episode 43 finished after 19 time steps\n",
            "Episode 44 finished after 27 time steps\n",
            "Episode 45 finished after 10 time steps\n",
            "Episode 46 finished after 12 time steps\n",
            "Episode 47 finished after 49 time steps\n",
            "Episode 48 finished after 21 time steps\n",
            "Episode 49 finished after 8 time steps\n",
            "Episode 50 finished after 8 time steps\n",
            "Episode 51 finished after 14 time steps\n",
            "Episode 52 finished after 44 time steps\n",
            "Episode 53 finished after 57 time steps\n",
            "Episode 54 finished after 46 time steps\n",
            "Episode 55 finished after 35 time steps\n",
            "Episode 56 finished after 25 time steps\n",
            "Episode 57 finished after 32 time steps\n",
            "Episode 58 finished after 19 time steps\n",
            "Episode 59 finished after 14 time steps\n",
            "Episode 60 finished after 16 time steps\n",
            "Episode 61 finished after 13 time steps\n",
            "Episode 62 finished after 18 time steps\n",
            "Episode 63 finished after 18 time steps\n",
            "Episode 64 finished after 50 time steps\n",
            "Episode 65 finished after 10 time steps\n",
            "Episode 66 finished after 41 time steps\n",
            "Episode 67 finished after 27 time steps\n",
            "Episode 68 finished after 12 time steps\n",
            "Episode 69 finished after 25 time steps\n",
            "Episode 70 finished after 45 time steps\n",
            "Episode 71 finished after 10 time steps\n",
            "Episode 72 finished after 29 time steps\n",
            "Episode 73 finished after 18 time steps\n",
            "Episode 74 finished after 43 time steps\n",
            "Episode 75 finished after 23 time steps\n",
            "Episode 76 finished after 15 time steps\n",
            "Episode 77 finished after 16 time steps\n",
            "Episode 78 finished after 22 time steps\n",
            "Episode 79 finished after 14 time steps\n",
            "Episode 80 finished after 17 time steps\n",
            "Episode 81 finished after 10 time steps\n",
            "Episode 82 finished after 23 time steps\n",
            "Episode 83 finished after 87 time steps\n",
            "Episode 84 finished after 18 time steps\n",
            "Episode 85 finished after 10 time steps\n",
            "Episode 86 finished after 37 time steps\n",
            "Episode 87 finished after 20 time steps\n",
            "Episode 88 finished after 25 time steps\n",
            "Episode 89 finished after 8 time steps\n",
            "Episode 90 finished after 16 time steps\n",
            "Episode 91 finished after 10 time steps\n",
            "Episode 92 finished after 13 time steps\n",
            "Episode 93 finished after 12 time steps\n",
            "Episode 94 finished after 34 time steps\n",
            "Episode 95 finished after 82 time steps\n",
            "Episode 96 finished after 15 time steps\n",
            "Episode 97 finished after 82 time steps\n",
            "Episode 98 finished after 23 time steps\n",
            "Episode 99 finished after 17 time steps\n",
            "Episode 100 finished after 30 time steps\n",
            "Episode 101 finished after 199 time steps\n",
            "Episode 102 finished after 37 time steps\n",
            "Episode 103 finished after 14 time steps\n",
            "Episode 104 finished after 70 time steps\n",
            "Episode 105 finished after 7 time steps\n",
            "Episode 106 finished after 171 time steps\n",
            "Episode 107 finished after 17 time steps\n",
            "Episode 108 finished after 20 time steps\n",
            "Episode 109 finished after 10 time steps\n",
            "Episode 110 finished after 55 time steps\n",
            "Episode 111 finished after 53 time steps\n",
            "Episode 112 finished after 10 time steps\n",
            "Episode 113 finished after 46 time steps\n",
            "Episode 114 finished after 17 time steps\n",
            "Episode 115 finished after 170 time steps\n",
            "Episode 116 finished after 72 time steps\n",
            "Episode 117 finished after 10 time steps\n",
            "Episode 118 finished after 71 time steps\n",
            "Episode 119 finished after 134 time steps\n",
            "Episode 120 finished after 37 time steps\n",
            "Episode 121 finished after 9 time steps\n",
            "Episode 122 finished after 50 time steps\n",
            "Episode 123 finished after 130 time steps\n",
            "Episode 124 finished after 14 time steps\n",
            "Episode 125 finished after 93 time steps\n",
            "Episode 126 finished after 9 time steps\n",
            "Episode 127 finished after 172 time steps\n",
            "Episode 128 finished after 126 time steps\n",
            "Episode 129 finished after 12 time steps\n",
            "Episode 130 finished after 73 time steps\n",
            "Episode 131 finished after 16 time steps\n",
            "Episode 132 finished after 199 time steps\n",
            "Episode 133 finished after 32 time steps\n",
            "Episode 134 finished after 9 time steps\n",
            "Episode 135 finished after 53 time steps\n",
            "Episode 136 finished after 14 time steps\n",
            "Episode 137 finished after 199 time steps\n",
            "Episode 138 finished after 199 time steps\n",
            "Episode 139 finished after 199 time steps\n",
            "Episode 140 finished after 199 time steps\n",
            "Episode 141 finished after 199 time steps\n",
            "Episode 142 finished after 199 time steps\n",
            "Episode 143 finished after 199 time steps\n",
            "Episode 144 finished after 199 time steps\n",
            "Episode 145 finished after 199 time steps\n",
            "Episode 146 finished after 199 time steps\n",
            "Episode 147 finished after 199 time steps\n",
            "Episode 148 finished after 199 time steps\n",
            "Episode 149 finished after 199 time steps\n",
            "Episode 150 finished after 199 time steps\n",
            "Episode 151 finished after 199 time steps\n",
            "Episode 152 finished after 199 time steps\n",
            "Episode 153 finished after 199 time steps\n",
            "Episode 154 finished after 199 time steps\n",
            "Episode 155 finished after 199 time steps\n",
            "Episode 156 finished after 199 time steps\n",
            "Episode 157 finished after 199 time steps\n",
            "Episode 158 finished after 199 time steps\n",
            "Episode 159 finished after 199 time steps\n",
            "Episode 160 finished after 199 time steps\n",
            "Episode 161 finished after 199 time steps\n",
            "Episode 162 finished after 199 time steps\n",
            "Episode 163 finished after 199 time steps\n",
            "Episode 164 finished after 64 time steps\n",
            "Episode 165 finished after 99 time steps\n",
            "Episode 166 finished after 48 time steps\n",
            "Episode 167 finished after 9 time steps\n",
            "Episode 168 finished after 73 time steps\n",
            "Episode 169 finished after 16 time steps\n",
            "Episode 170 finished after 149 time steps\n",
            "Episode 171 finished after 10 time steps\n",
            "Episode 172 finished after 199 time steps\n",
            "Episode 173 finished after 199 time steps\n",
            "Episode 174 finished after 199 time steps\n",
            "Episode 175 finished after 199 time steps\n",
            "Episode 176 finished after 199 time steps\n",
            "Episode 177 finished after 199 time steps\n",
            "Episode 178 finished after 91 time steps\n",
            "Episode 179 finished after 35 time steps\n",
            "Episode 180 finished after 58 time steps\n",
            "Episode 181 finished after 199 time steps\n",
            "Episode 182 finished after 199 time steps\n",
            "Episode 183 finished after 199 time steps\n",
            "Episode 184 finished after 199 time steps\n",
            "Episode 185 finished after 199 time steps\n",
            "Episode 186 finished after 199 time steps\n",
            "Episode 187 finished after 199 time steps\n",
            "Episode 188 finished after 199 time steps\n",
            "Episode 189 finished after 199 time steps\n",
            "Episode 190 finished after 199 time steps\n",
            "Episode 191 finished after 199 time steps\n",
            "Episode 192 finished after 199 time steps\n",
            "Episode 193 finished after 199 time steps\n",
            "Episode 194 finished after 199 time steps\n",
            "Episode 195 finished after 199 time steps\n",
            "Episode 196 finished after 199 time steps\n",
            "Episode 197 finished after 142 time steps\n",
            "Episode 198 finished after 21 time steps\n",
            "Episode 199 finished after 17 time steps\n",
            "Episode 200 finished after 16 time steps\n",
            "Episode 201 finished after 10 time steps\n",
            "Episode 202 finished after 28 time steps\n",
            "Episode 203 finished after 8 time steps\n",
            "Episode 204 finished after 24 time steps\n",
            "Episode 205 finished after 10 time steps\n",
            "Episode 206 finished after 185 time steps\n",
            "Episode 207 finished after 199 time steps\n",
            "Episode 208 finished after 199 time steps\n",
            "Episode 209 finished after 199 time steps\n",
            "Episode 210 finished after 199 time steps\n",
            "Episode 211 finished after 199 time steps\n",
            "Episode 212 finished after 199 time steps\n",
            "Episode 213 finished after 199 time steps\n",
            "Episode 214 finished after 199 time steps\n",
            "Episode 215 finished after 199 time steps\n",
            "Episode 216 finished after 199 time steps\n",
            "Episode 217 finished after 199 time steps\n",
            "Episode 218 finished after 199 time steps\n",
            "Episode 219 finished after 199 time steps\n",
            "Episode 220 finished after 199 time steps\n",
            "Episode 221 finished after 199 time steps\n",
            "Episode 222 finished after 199 time steps\n",
            "Episode 223 finished after 199 time steps\n",
            "Episode 224 finished after 199 time steps\n",
            "Episode 225 finished after 199 time steps\n",
            "Episode 226 finished after 199 time steps\n",
            "Episode 227 finished after 199 time steps\n",
            "Episode 228 finished after 199 time steps\n",
            "Episode 229 finished after 199 time steps\n",
            "Episode 230 finished after 199 time steps\n",
            "Episode 231 finished after 199 time steps\n",
            "Episode 232 finished after 199 time steps\n",
            "Episode 233 finished after 199 time steps\n",
            "Episode 234 finished after 199 time steps\n",
            "Episode 235 finished after 199 time steps\n",
            "Episode 236 finished after 199 time steps\n",
            "Episode 237 finished after 199 time steps\n",
            "Episode 238 finished after 199 time steps\n",
            "Episode 239 finished after 199 time steps\n",
            "Episode 240 finished after 199 time steps\n",
            "Episode 241 finished after 199 time steps\n",
            "Episode 242 finished after 199 time steps\n",
            "Episode 243 finished after 199 time steps\n",
            "Episode 244 finished after 199 time steps\n",
            "Episode 245 finished after 199 time steps\n",
            "Episode 246 finished after 199 time steps\n",
            "Episode 247 finished after 199 time steps\n",
            "Episode 248 finished after 199 time steps\n",
            "Episode 249 finished after 199 time steps\n",
            "Episode 250 finished after 199 time steps\n",
            "Episode 251 finished after 199 time steps\n",
            "Episode 252 finished after 199 time steps\n",
            "Episode 253 finished after 199 time steps\n",
            "Episode 254 finished after 199 time steps\n",
            "Episode 255 finished after 199 time steps\n",
            "Episode 256 finished after 199 time steps\n"
          ]
        }
      ]
    },
    {
      "cell_type": "code",
      "source": [
        "def show_video():\n",
        "    mp4_list = glob('video/*.mp4')\n",
        "    print(mp4_list)\n",
        "    if mp4_list:\n",
        "        mp4 = mp4_list[2]\n",
        "        video = open(mp4, 'r+b').read()\n",
        "        encoded = b64encode(video)\n",
        "        ipy_display.display(HTML(data='''\n",
        "            <video alt=\"gameplay\" autoplay controls style=\"height: 400px;\">\n",
        "                <source src=\"data:video/mp4;base64,%s\" type=\"video/mp4\" />\n",
        "            </video>\n",
        "        ''' % (encoded.decode('ascii'))))\n",
        "    else:\n",
        "        print('No video found')"
      ],
      "metadata": {
        "id": "-yFaKJXCgCmn"
      },
      "execution_count": 12,
      "outputs": []
    },
    {
      "cell_type": "code",
      "source": [
        "show_video()"
      ],
      "metadata": {
        "colab": {
          "base_uri": "https://localhost:8080/",
          "height": 460
        },
        "id": "sxoRAee7gEWF",
        "outputId": "b61bf85c-50d0-4715-a61a-836a2b02126d"
      },
      "execution_count": 13,
      "outputs": [
        {
          "output_type": "stream",
          "name": "stdout",
          "text": [
            "['video/openaigym.video.0.7690.video000216.mp4', 'video/openaigym.video.0.7690.video000000.mp4', 'video/openaigym.video.0.7690.video000001.mp4', 'video/openaigym.video.0.7690.video000125.mp4', 'video/openaigym.video.0.7690.video000064.mp4', 'video/openaigym.video.0.7690.video000027.mp4', 'video/openaigym.video.0.7690.video000008.mp4']\n"
          ]
        },
        {
          "output_type": "display_data",
          "data": {
            "text/plain": [
              "<IPython.core.display.HTML object>"
            ],
            "text/html": [
              "\n",
              "            <video alt=\"gameplay\" autoplay controls style=\"height: 400px;\">\n",
              "                <source src=\"data:video/mp4;base64,AAAAIGZ0eXBpc29tAAACAGlzb21pc28yYXZjMW1wNDEAAAAIZnJlZQAACaBtZGF0AAACrgYF//+q3EXpvebZSLeWLNgg2SPu73gyNjQgLSBjb3JlIDE2MyByMzA2MCA1ZGI2YWE2IC0gSC4yNjQvTVBFRy00IEFWQyBjb2RlYyAtIENvcHlsZWZ0IDIwMDMtMjAyMSAtIGh0dHA6Ly93d3cudmlkZW9sYW4ub3JnL3gyNjQuaHRtbCAtIG9wdGlvbnM6IGNhYmFjPTEgcmVmPTMgZGVibG9jaz0xOjA6MCBhbmFseXNlPTB4MzoweDExMyBtZT1oZXggc3VibWU9NyBwc3k9MSBwc3lfcmQ9MS4wMDowLjAwIG1peGVkX3JlZj0xIG1lX3JhbmdlPTE2IGNocm9tYV9tZT0xIHRyZWxsaXM9MSA4eDhkY3Q9MSBjcW09MCBkZWFkem9uZT0yMSwxMSBmYXN0X3Bza2lwPTEgY2hyb21hX3FwX29mZnNldD0tMiB0aHJlYWRzPTMgbG9va2FoZWFkX3RocmVhZHM9MSBzbGljZWRfdGhyZWFkcz0wIG5yPTAgZGVjaW1hdGU9MSBpbnRlcmxhY2VkPTAgYmx1cmF5X2NvbXBhdD0wIGNvbnN0cmFpbmVkX2ludHJhPTAgYmZyYW1lcz0zIGJfcHlyYW1pZD0yIGJfYWRhcHQ9MSBiX2JpYXM9MCBkaXJlY3Q9MSB3ZWlnaHRiPTEgb3Blbl9nb3A9MCB3ZWlnaHRwPTIga2V5aW50PTI1MCBrZXlpbnRfbWluPTI1IHNjZW5lY3V0PTQwIGludHJhX3JlZnJlc2g9MCByY19sb29rYWhlYWQ9NDAgcmM9Y3JmIG1idHJlZT0xIGNyZj0yMy4wIHFjb21wPTAuNjAgcXBtaW49MCBxcG1heD02OSBxcHN0ZXA9NCBpcF9yYXRpbz0xLjQwIGFxPTE6MS4wMACAAAABwmWIhAAv//72rvzLK0cLlS4dWXuzUfLoSXL9iDB9aAAAAwAAAwAAJuKiZ0WFMeJsgAAALmAIWElDyDzETFWKgSvGXweHI2AOhT+QPlIK+DFYNG9R+idTPUmpWKw3qUtHfyoHaTG3O8xjaTPSA7vu6Y+x6Ex/9SyE4FqefvXSAFkUH8DxsQv1DpArhMbzvmMeTbBMSjJgsEeUvhTX8t1DdyAnW6KG4hMI2ygEYF/S3UhXnxLMoejeTYrSInjyg7kWCQA0VlM/9ciR8QDYsFGrNiSYFlLdnN3Gs1whe9KUEh9YkwYOgmgR7txD4sA3X941QF8zlK4Axw++Mo2Wv2qogj2IPJA4F3+8YryDCJcZBTX2POpS7x/jLElgJA3RuEZx2yxDAAazdZHaojPtDbq6rjcHOxl+/V2gX5f5RpOLKRy3DnwuYZ4g/TjlM6UYFtkwZ09gPc8lmkWTR05FJQXI8GGVxjvdw2Xhz4tyX/IKBVStGI1M9hGzCfBoY6KeP4V/GDUPOjjZADbeebjSBPnTYd7dK2LyIg4LKK30b/LLsYebqeotL70tnxkCZfk4iSjPjArKaaPQ34BTEAAAAwAAAwBJQQAAAMBBmiRsQv/+jLAAAEY1RTYOMEreAI9vgPj9IojdQ6KScFc3I7liJHmjirvvNQIg2drmwS6ks9hRdRzbifcsBogQYlWnrd/5avlwIrtpAkavuqbXRDGI7vYACWASzSNjpyHiAw8lquMcDXNSpnx6ZqXm3okuJx8+Xr8Fi4h62oXcuTPSMNwn3POQi3UMa3rHW4WRG5lbuvrQMXS0S5v+/m1cgaE9XCLiPXwskvXxiXS+iDsfDsOZ28duVdvysIJDNOAAAABDQZ5CeIR/AAAWtSs4uEskEwZehwDJE08iiMxne9mJDRhGSjIIVt9yZEaf/1x+OM5viWx0BMwd3QfMrCWXcXmIIIwf4QAAACQBnmF0R/8AACPDF2ippVStKCRdkCgP2IPAAcFSHozpmpHpiWUAAAAfAZ5jakf/AAANhJUuie9GPa774aYbwt1c0E2DioNhUwAAALJBmmhJqEFomUwIV//+OEAAAQ2QBtFgFVq2QJyvq/cVBgASQjaionTLtHWWs3qMqph8SseMHMheL+zhqqMc1QjWYsvVzW25t20x7eHIwnMCdGoMuk7Aiqjei0a84vSq1r+l11ce8qWB7bxt3zI/2SB5oAlyxTCdmCvEoQseffzGf2Bx5jwZqK7xoIgpHLpjHrdPmVzIPytyTXQgXvuGMOwY/RctQKHsELRPDKga62wyI3W9AAAAVUGehkURLCP/AAAWu4p+Vl2j9XZcL0R7sw4CcPsFk/zUGwIJ5dZaKRGRmeUY9lDJO+W+bF5l1nhhpIAFqQm2u+pTr64IAAADAAADAfOy7YLSZ4i+VJEAAAAyAZ6ldEf/AAAjwxdp76lnkHbd3yye1FCgGSVECMVebQR9qgRoqKVBYbPDAxVV50ZtjjUAAABOAZ6nakf/AAAjpLeRK1Wh0gBUiPICTTJC4ikcypEPms8mQlTvlsu9NvSXodnfzUUKpijZJ7OaeMYAEp4CtCUlXH7vMJTnc7d6qh0yzSUsAAAAnUGaqkmoQWyZTBRMK//+OEAAAQz6vdCyTXzN4AWR5hFmoXwMMx+MQS4WKdS9R81r7L/SzescLZJwM43JbvCzunilNr04bSxWwDr6eCS4oDIR0Ez2N0DJXQDvfKOURzAsQaHzzVQeckdmXQhkzvptNW/amK2BfQbtYZCwc0n0wwxEZkFNpdfzqOEEK29FWtf32B9c9/onF0zsUPfXf0AAAABRAZ7Jakf/AAANan8iFm1IyNZd4IPkG3E+QM4ZJwn3Ocoz/JqnOuHgWfxfokyx70LYfrNbfZVueobawXStEDeizwAAAwAAAwAPzFnxlVXDzoKDAAAAgkGazUnhClJlMCP//IQAAA/gsFQOTXeGQ1ADiP5lqeOVcFs+JNOn9vjboPKlBSy9UtL6mcbxk5Yg+XSuURPR1z1pgZuUyFXF0J3nx6FU/5DVh9C6jznlrNzN1m/gX/+GYBgEoj/XUSO1aL1kwRyZYX43qk2bFJnT6MwPcVY6C/9MbZ0AAABrQZ7rRTRMI/8AABay14+jhRLVgwYTEu0DbJuBz7hT5CAFb0+1jmeqqXKvo1pMD5eYL/xlIrwQIGoqYpOV/z9duE4AQWCwHknu2ojvvrb7Re8ER0CEM6kd7ARvLHJPeAAAAwADigGKFVV/0nAAAABEAZ8Makf/AAAjvat0Wf+s9AIlqrWuYrgeo/MCxV9hmiMjJ2Sv4svLXvvd3bedHsyhPkAJqLX3dp/F4LeQngcxT9ubw/0AAAPLbW9vdgAAAGxtdmhkAAAAAAAAAAAAAAAAAAAD6AAAARgAAQAAAQAAAAAAAAAAAAAAAAEAAAAAAAAAAAAAAAAAAAABAAAAAAAAAAAAAAAAAABAAAAAAAAAAAAAAAAAAAAAAAAAAAAAAAAAAAAAAAAAAgAAAvV0cmFrAAAAXHRraGQAAAADAAAAAAAAAAAAAAABAAAAAAAAARgAAAAAAAAAAAAAAAAAAAAAAAEAAAAAAAAAAAAAAAAAAAABAAAAAAAAAAAAAAAAAABAAAAAAlgAAAGQAAAAAAAkZWR0cwAAABxlbHN0AAAAAAAAAAEAAAEYAAACAAABAAAAAAJtbWRpYQAAACBtZGhkAAAAAAAAAAAAAAAAAAAyAAAADgBVxAAAAAAALWhkbHIAAAAAAAAAAHZpZGUAAAAAAAAAAAAAAABWaWRlb0hhbmRsZXIAAAACGG1pbmYAAAAUdm1oZAAAAAEAAAAAAAAAAAAAACRkaW5mAAAAHGRyZWYAAAAAAAAAAQAAAAx1cmwgAAAAAQAAAdhzdGJsAAAAsHN0c2QAAAAAAAAAAQAAAKBhdmMxAAAAAAAAAAEAAAAAAAAAAAAAAAAAAAAAAlgBkABIAAAASAAAAAAAAAABAAAAAAAAAAAAAAAAAAAAAAAAAAAAAAAAAAAAAAAAAAAAGP//AAAANmF2Y0MBZAAf/+EAGWdkAB+s2UCYM+XhAAADAAEAAAMAZA8YMZYBAAZo6+PLIsD9+PgAAAAAFGJ0cnQAAAAAAAESGwABEhsAAAAYc3R0cwAAAAAAAAABAAAADgAAAQAAAAAUc3RzcwAAAAAAAAABAAAAAQAAAHhjdHRzAAAAAAAAAA0AAAABAAACAAAAAAEAAAUAAAAAAQAAAgAAAAABAAAAAAAAAAEAAAEAAAAAAQAABQAAAAABAAACAAAAAAEAAAAAAAAAAQAAAQAAAAABAAADAAAAAAEAAAEAAAAAAQAABAAAAAACAAABAAAAABxzdHNjAAAAAAAAAAEAAAABAAAADgAAAAEAAABMc3RzegAAAAAAAAAAAAAADgAABHgAAADEAAAARwAAACgAAAAjAAAAtgAAAFkAAAA2AAAAUgAAAKEAAABVAAAAhgAAAG8AAABIAAAAFHN0Y28AAAAAAAAAAQAAADAAAABidWR0YQAAAFptZXRhAAAAAAAAACFoZGxyAAAAAAAAAABtZGlyYXBwbAAAAAAAAAAAAAAAAC1pbHN0AAAAJal0b28AAAAdZGF0YQAAAAEAAAAATGF2ZjU4Ljc2LjEwMA==\" type=\"video/mp4\" />\n",
              "            </video>\n",
              "        "
            ]
          },
          "metadata": {}
        }
      ]
    },
    {
      "cell_type": "code",
      "source": [
        "%matplotlib inline\n",
        "import matplotlib.pyplot as plt\n",
        "\n",
        "plt.bar(range(len(rList)), rList, color=\"blue\")\n",
        "plt.show()"
      ],
      "metadata": {
        "colab": {
          "base_uri": "https://localhost:8080/",
          "height": 430
        },
        "id": "mFnKVsGzgF9U",
        "outputId": "09b9bd77-2eab-4955-c068-6e3dbbd34514"
      },
      "execution_count": 14,
      "outputs": [
        {
          "output_type": "display_data",
          "data": {
            "text/plain": [
              "<Figure size 640x480 with 1 Axes>"
            ],
            "image/png": "[encoded data removed]"
          },
          "metadata": {}
        }
      ]
    }
  ]
}